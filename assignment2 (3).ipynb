{
 "cells": [
  {
   "cell_type": "markdown",
   "metadata": {},
   "source": [
    "Before you turn this problem in, make sure everything runs as expected. First, **restart the kernel** (in the menubar, select Kernel$\\rightarrow$Restart) and then **run all cells** (in the menubar, select Cell$\\rightarrow$Run All).\n",
    "\n",
    "Make sure you fill in any place that says `YOUR CODE HERE` or \"YOUR ANSWER HERE\", as well as your name and collaborators below:"
   ]
  },
  {
   "cell_type": "code",
   "execution_count": 41,
   "metadata": {},
   "outputs": [],
   "source": [
    "NAME = \"Jesse Zweekhorst, 2012495\"\n",
    "COLLABORATORS = \"Max van der Hofstad, 2015374\""
   ]
  },
  {
   "cell_type": "markdown",
   "metadata": {},
   "source": [
    "---"
   ]
  },
  {
   "cell_type": "markdown",
   "metadata": {},
   "source": [
    "Fill in the cell above to provide us with your name and student number, like\n",
    "\n",
    "NAME = \"Adam Smith, #student number#\"\n",
    "\n",
    "where you replace \"#student number#\" with your ... (very good!)\n",
    "\n",
    "and if you are doing this with someone else (not more than one other person):\n",
    "\n",
    "COLLABORATORS = \"Karl Marx, #student number#\""
   ]
  },
  {
   "cell_type": "markdown",
   "metadata": {},
   "source": [
    "# Assignment 2\n",
    "\n"
   ]
  },
  {
   "cell_type": "markdown",
   "metadata": {},
   "source": [
    "This is the assignment for week 2; abbreviated to \"Assignment 2\". In other words, you did not miss assignment 1 (which does not exist).\n",
    "\n",
    "All assignments, notebooks we discuss in class and the exam (final assignment) are in the same format. So we practice this format here.\n",
    "\n",
    "In the first cell of the notebook, give us your name and student number in the way indicated above. If you do this notebook with --at max.-- one other student, give her/his name and student number as well under \"COLLABORATORS\".\n",
    "\n",
    "Fill in the notebook (see below for code cells and text cells that you need to fill in).\n",
    "\n",
    "If you look at the menus above (File, Edit, View etc.), there is one called \"Cell\". If you click on this, you can change the \"Cell Type\". Choose \"Code\" when you are typing python or R code. Choose \"Markdown\" when you are typing, well, markdown.\n",
    "\n",
    "When you finish the notebook, make sure that you save it. Then put it on github, e.g. by dragging it onto github (see instructions below). \n",
    "\n",
    "Finally, add a link to your README file with the name of the assignment, for this week that is \"Assignment 2\".\n",
    "\n"
   ]
  },
  {
   "cell_type": "markdown",
   "metadata": {},
   "source": [
    "## Markdown"
   ]
  },
  {
   "cell_type": "markdown",
   "metadata": {},
   "source": [
    "In the following cell type in markdown the text with a link and an image that you can find [here](http://janboone.github.io/programming-for-economists/_downloads/markdown_text_programming_for_economists.html).\n",
    "\n",
    "Note that we are interested in seeing bold text, italics and math etc. Use your browser to find the image's address.\n",
    "\n",
    "After you type your text, press SHIFT-ENTER and check whether the text looks the same as [here](http://janboone.github.io/programming-for-economists/_downloads/markdown_text_programming_for_economists.html)."
   ]
  },
  {
   "attachments": {},
   "cell_type": "markdown",
   "metadata": {
    "collapsed": true,
    "deletable": false,
    "nbgrader": {
     "checksum": "0e9b9550308b7c41b93eb07d8dc085cb",
     "grade": true,
     "grade_id": "cell-9a8c25d4f952fec7",
     "locked": false,
     "points": 0,
     "schema_version": 1,
     "solution": true
    }
   },
   "source": [
    "# This is a section.\n",
    "\n",
    "## this is a subsection.\n",
    "\n",
    "A bullet list looks *like this*:\n",
    "\n",
    "-  bullet 1\n",
    "-  bullet 2\n",
    "-  **bullet 3**\n",
    "    \n",
    "We can like to this [wonderful page.](#wonderful-page)\n",
    "\n",
    "And we can add a picture to the text as well.\n",
    "\n",
    "<img src=\"http://images2.mtv.com/uri/mgid:file:docroot:mtv.com:/crop-images/2013/11/05/the_who_umg.jpg?enlarge=false&amp;maxdimension=1300&amp;matte=true&amp;matteColor=black&amp;quality=0.85\" alt=\"a band\" title=\"Who are they?\">\n",
    "\n",
    "Let's type some math:\n",
    "\n",
    "$sin(x) + cos(x) = 2$\n",
    " \n",
    "As a rule, I really like this line\n",
    "\n",
    "We are done."
   ]
  },
  {
   "cell_type": "markdown",
   "metadata": {},
   "source": [
    "## Some python\n",
    "\n",
    "Part of the \"fun\" of programming is that sometimes you want to do something that you have not seen before. Then you use \"google\". We will practice this by asking you to do things that you have not seen before, say on datacamp or previous classes. Do not panic and simply google what you need.\n",
    "\n",
    "Then copy paste the solution that you find and adjust it to your needs.\n",
    "\n",
    "Here we are going to use the plotting library `matplotlib`."
   ]
  },
  {
   "cell_type": "code",
   "execution_count": 42,
   "metadata": {},
   "outputs": [
    {
     "data": {
      "text/plain": [
       "[<matplotlib.lines.Line2D at 0x1cb4de43048>]"
      ]
     },
     "execution_count": 42,
     "metadata": {},
     "output_type": "execute_result"
    },
    {
     "data": {
      "image/png": "[encoded data removed]",
      "text/plain": [
       "<matplotlib.figure.Figure at 0x1cb4dd05978>"
      ]
     },
     "metadata": {},
     "output_type": "display_data"
    }
   ],
   "source": [
    "import matplotlib.pyplot as plt\n",
    "import numpy as np\n",
    "%matplotlib inline\n",
    "\n",
    "\n",
    "range_x = np.arange(-2,2.01,0.01)\n",
    "plt.plot(range_x,[x**2 for x in range_x])"
   ]
  },
  {
   "cell_type": "markdown",
   "metadata": {},
   "source": [
    "--------\n",
    "\n",
    "**Exercise**\n",
    "\n",
    "Adjust the code above to:\n",
    "\n",
    "* plot $1/x$ instead of $x^2$; note that this implies that you should adjust `range_x` as well; you can plot the function for $x>0$\n",
    "* add a title to the graph, e.g. 'This is the function $1/x$'\n",
    "* add labels on the horizontal and vertical axes with x and y in latex\n",
    "\n",
    "Hint: google \"matplotlib add title\" etc.\n",
    "\n",
    "----------\n"
   ]
  },
  {
   "cell_type": "code",
   "execution_count": 43,
   "metadata": {
    "deletable": false,
    "nbgrader": {
     "checksum": "0cdf032a1d17a6e7096a702e81d44afe",
     "grade": false,
     "grade_id": "cell-1fa939eb4f526510",
     "locked": false,
     "schema_version": 1,
     "solution": true
    }
   },
   "outputs": [
    {
     "data": {
      "text/plain": [
       "[<matplotlib.lines.Line2D at 0x1cb4eeba128>]"
      ]
     },
     "execution_count": 43,
     "metadata": {},
     "output_type": "execute_result"
    },
    {
     "data": {
      "image/png": "[encoded data removed]",
      "text/plain": [
       "<matplotlib.figure.Figure at 0x1cb4de46978>"
      ]
     },
     "metadata": {},
     "output_type": "display_data"
    }
   ],
   "source": [
    "import matplotlib.pyplot as plt\n",
    "import numpy as np\n",
    "%matplotlib inline\n",
    "\n",
    "fig = plt.figure()\n",
    "fig.suptitle('This is the fuction $1/x$', fontsize=14,)\n",
    "\n",
    "ax = fig.add_subplot(111)\n",
    "\n",
    "ax.set_xlabel('$x$')\n",
    "ax.set_ylabel('$y$')\n",
    "\n",
    "\n",
    "range_x = np.arange(0.01,2.01,0.01)\n",
    "plt.plot(range_x,[(1/x) for x in range_x])\n"
   ]
  },
  {
   "cell_type": "markdown",
   "metadata": {},
   "source": [
    "## Github\n",
    "\n",
    "After you have finished, we need to upload this notebook on github. Make sure that you upload the file on the github page of each group member."
   ]
  },
  {
   "cell_type": "markdown",
   "metadata": {},
   "source": [
    "Instructions on how to upload this on github can be found [on this page](http://janboone.github.io/programming-for-economists/github.html). This page has two screencasts: one shows how to drag the notebook onto your github page, the other shows how you can use the command line to upload your notebook.\n"
   ]
  },
  {
   "cell_type": "markdown",
   "metadata": {},
   "source": [
    "Remember to update the README file in your repository to include a link to this notebook on github."
   ]
  }
 ],
 "metadata": {
  "anaconda-cloud": {},
  "kernelspec": {
   "display_name": "Python 3",
   "language": "python",
   "name": "python3"
  },
  "language_info": {
   "codemirror_mode": {
    "name": "ipython",
    "version": 3
   },
   "file_extension": ".py",
   "mimetype": "text/x-python",
   "name": "python",
   "nbconvert_exporter": "python",
   "pygments_lexer": "ipython3",
   "version": "3.6.4"
  }
 },
 "nbformat": 4,
 "nbformat_minor": 1
}
